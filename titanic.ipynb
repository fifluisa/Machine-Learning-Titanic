{
 "cells": [
  {
   "cell_type": "code",
   "execution_count": 12,
   "metadata": {},
   "outputs": [],
   "source": [
    "import pandas as pd\n",
    "\n",
    "# Load the train and test datasets to create two DataFrames\n",
    "train_url = r'Datasets\\train.csv'\n",
    "train = pd.read_csv(train_url)\n",
    "\n",
    "test_url = r'Datasets\\test.csv'\n",
    "test = pd.read_csv(test_url)\n",
    "\n"
   ]
  },
  {
   "cell_type": "code",
   "execution_count": 13,
   "metadata": {},
   "outputs": [],
   "source": [
    "# Import the Numpy library\n",
    "import numpy as np\n",
    "\n",
    "# Import 'tree' from scikit-learn library\n",
    "from sklearn import tree"
   ]
  },
  {
   "cell_type": "code",
   "execution_count": 14,
   "metadata": {},
   "outputs": [
    {
     "name": "stderr",
     "output_type": "stream",
     "text": [
      "c:\\python36\\lib\\site-packages\\ipykernel_launcher.py:24: SettingWithCopyWarning: \n",
      "A value is trying to be set on a copy of a slice from a DataFrame\n",
      "\n",
      "See the caveats in the documentation: http://pandas.pydata.org/pandas-docs/stable/indexing.html#indexing-view-versus-copy\n",
      "c:\\python36\\lib\\site-packages\\ipykernel_launcher.py:25: SettingWithCopyWarning: \n",
      "A value is trying to be set on a copy of a slice from a DataFrame\n",
      "\n",
      "See the caveats in the documentation: http://pandas.pydata.org/pandas-docs/stable/indexing.html#indexing-view-versus-copy\n",
      "c:\\python36\\lib\\site-packages\\ipykernel_launcher.py:26: SettingWithCopyWarning: \n",
      "A value is trying to be set on a copy of a slice from a DataFrame\n",
      "\n",
      "See the caveats in the documentation: http://pandas.pydata.org/pandas-docs/stable/indexing.html#indexing-view-versus-copy\n",
      "c:\\python36\\lib\\site-packages\\ipykernel_launcher.py:28: SettingWithCopyWarning: \n",
      "A value is trying to be set on a copy of a slice from a DataFrame\n",
      "\n",
      "See the caveats in the documentation: http://pandas.pydata.org/pandas-docs/stable/indexing.html#indexing-view-versus-copy\n",
      "c:\\python36\\lib\\site-packages\\ipykernel_launcher.py:29: SettingWithCopyWarning: \n",
      "A value is trying to be set on a copy of a slice from a DataFrame\n",
      "\n",
      "See the caveats in the documentation: http://pandas.pydata.org/pandas-docs/stable/indexing.html#indexing-view-versus-copy\n",
      "c:\\python36\\lib\\site-packages\\ipykernel_launcher.py:30: SettingWithCopyWarning: \n",
      "A value is trying to be set on a copy of a slice from a DataFrame\n",
      "\n",
      "See the caveats in the documentation: http://pandas.pydata.org/pandas-docs/stable/indexing.html#indexing-view-versus-copy\n",
      "c:\\python36\\lib\\site-packages\\ipykernel_launcher.py:33: SettingWithCopyWarning: \n",
      "A value is trying to be set on a copy of a slice from a DataFrame\n",
      "\n",
      "See the caveats in the documentation: http://pandas.pydata.org/pandas-docs/stable/indexing.html#indexing-view-versus-copy\n"
     ]
    }
   ],
   "source": [
    "def get_sex(passenger):\n",
    "    if passenger == 'female':\n",
    "        return 1\n",
    "    else: \n",
    "        return 0\n",
    "\n",
    "# Convert the male and female groups to integer form\n",
    "train['Sex'] = train['Sex'].apply(get_sex)\n",
    "test['Sex'] = test['Sex'].apply(get_sex)\n",
    "\n",
    "train[\"Age\"] = train[\"Age\"].fillna(round(train[\"Age\"].mean()))\n",
    "test[\"Age\"] = test[\"Age\"].fillna(round(test[\"Age\"].mean()))\n",
    "\n",
    "train[\"Age\"] = train[\"Age\"]/10\n",
    "test[\"Age\"] = test[\"Age\"]/10\n",
    "\n",
    "# Impute the Embarked variable\n",
    "train[\"Embarked\"] = train[\"Embarked\"].fillna(\"S\")\n",
    "\n",
    "train[\"Embarked\"] = train[\"Embarked\"].astype(str)\n",
    "test[\"Embarked\"] = test[\"Embarked\"].astype(str)\n",
    "\n",
    "# Convert the Embarked classes to integer form\n",
    "train[\"Embarked\"][train[\"Embarked\"] == \"S\"] = 0\n",
    "train[\"Embarked\"][train[\"Embarked\"] == \"C\"] = 2\n",
    "train[\"Embarked\"][train[\"Embarked\"] == \"Q\"] = 1\n",
    "\n",
    "test[\"Embarked\"][test[\"Embarked\"] == \"S\"] = 0\n",
    "test[\"Embarked\"][test[\"Embarked\"] == \"C\"] = 2\n",
    "test[\"Embarked\"][test[\"Embarked\"] == \"Q\"] = 1\n",
    "\n",
    "# Impute the missing value with the mean\n",
    "test.Fare[152] = train.Fare.median()\n",
    "\n",
    "target = train[\"Survived\"].values\n",
    "\n"
   ]
  },
  {
   "cell_type": "code",
   "execution_count": 15,
   "metadata": {},
   "outputs": [
    {
     "name": "stdout",
     "output_type": "stream",
     "text": [
      "0.920314253647587\n"
     ]
    }
   ],
   "source": [
    "# Create a new feature set and add the new feature\n",
    "features_three = train[[\"Pclass\", \"Sex\", \"Age\", \"Embarked\", \"Fare\"]].values\n",
    "\n",
    "# Define the tree classifier, then fit the model\n",
    "my_tree_three = tree.DecisionTreeClassifier(max_depth = 10, min_samples_split = 2, random_state = 1)\n",
    "my_tree_three = my_tree_three.fit(features_three, target)\n",
    "\n",
    "# Print the score of this decision tree\n",
    "print(my_tree_three.score(features_three, target))\n",
    "test_features = test[[\"Sex\", \"Pclass\", \"Age\", \"Embarked\", \"Fare\"]].values\n",
    "pred_three = my_tree_three.predict(test_features)\n",
    "#print(len(pred_forest))\n",
    "PassengerId =np.array(test[\"PassengerId\"]).astype(int)\n",
    "my_solution2 = pd.DataFrame(pred_three , PassengerId, columns = [\"Survived\"])\n",
    "\n",
    "# Write your solution to a csv file with the name my_solution.csv\n",
    "my_solution2.to_csv(\"my_solution_15_tree.csv\", index_label = [\"PassengerId\"])"
   ]
  },
  {
   "cell_type": "code",
   "execution_count": 16,
   "metadata": {},
   "outputs": [
    {
     "name": "stdout",
     "output_type": "stream",
     "text": [
      "0.9652076318742986\n"
     ]
    }
   ],
   "source": [
    "# Import the `RandomForestClassifier`\n",
    "from sklearn.ensemble import RandomForestClassifier\n",
    "\n",
    "\n",
    "# We want the Pclass, Age, Sex, Fare,SibSp, Parch, and Embarked variables\n",
    "features_forest = train[[\"Sex\", \"Pclass\", \"Age\", \"Embarked\", \"Fare\"]].values\n",
    "#print(test[[\"Pclass\", \"Age\", \"Sex\", \"Fare\", \"SibSp\", \"Parch\", \"Embarked\"]])\n",
    "\n",
    "\n",
    "# Building and fitting my_forest\n",
    "forest = RandomForestClassifier(max_depth = 12, min_samples_split=2, n_estimators = 50, random_state = 1)\n",
    "my_forest = forest.fit(features_forest, target)\n",
    "\n",
    "# Print the score of the fitted random forest\n",
    "print(my_forest.score(features_forest, target))\n",
    "\n",
    "# Compute predictions on our test set features then print the length of the prediction vector\n",
    "test_features = test[[\"Sex\", \"Pclass\", \"Age\", \"Embarked\", \"Fare\"]].values\n",
    "pred_forest = my_forest.predict(test_features)\n",
    "#print(len(pred_forest))\n",
    "\n",
    "my_solution2 = pd.DataFrame(pred_forest, PassengerId, columns = [\"Survived\"])\n",
    "#print(my_solution2)\n",
    "\n",
    "# Check that your data frame has 418 entries\n",
    "#print(my_solution2.shape)\n",
    "\n",
    "# Write your solution to a csv file with the name my_solution.csv\n",
    "my_solution2.to_csv(\"my_solution_16.csv\", index_label = [\"PassengerId\"])"
   ]
  },
  {
   "cell_type": "code",
   "execution_count": null,
   "metadata": {},
   "outputs": [],
   "source": []
  },
  {
   "cell_type": "code",
   "execution_count": null,
   "metadata": {},
   "outputs": [],
   "source": []
  }
 ],
 "metadata": {
  "kernelspec": {
   "display_name": "Python 3",
   "language": "python",
   "name": "python3"
  },
  "language_info": {
   "codemirror_mode": {
    "name": "ipython",
    "version": 3
   },
   "file_extension": ".py",
   "mimetype": "text/x-python",
   "name": "python",
   "nbconvert_exporter": "python",
   "pygments_lexer": "ipython3",
   "version": "3.6.3"
  }
 },
 "nbformat": 4,
 "nbformat_minor": 2
}
